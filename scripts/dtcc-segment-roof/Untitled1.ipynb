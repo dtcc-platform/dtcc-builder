{
 "cells": [
  {
   "cell_type": "code",
   "execution_count": 1,
   "id": "45b99f24-ae4b-4eb7-96d5-f4215f2e1152",
   "metadata": {},
   "outputs": [
    {
     "name": "stdout",
     "output_type": "stream",
     "text": [
      "Populating the interactive namespace from numpy and matplotlib\n"
     ]
    }
   ],
   "source": [
    "%pylab inline"
   ]
  },
  {
   "cell_type": "code",
   "execution_count": 2,
   "id": "bec945da-6d39-4c16-be27-3b16ba370917",
   "metadata": {},
   "outputs": [],
   "source": [
    "from roof_segmentation import *\n"
   ]
  },
  {
   "cell_type": "code",
   "execution_count": 171,
   "id": "7cf3e9ac-f17f-48d5-b674-0788a624fb19",
   "metadata": {},
   "outputs": [],
   "source": [
    "import json \n",
    "import numpy as np\n",
    "import scipy.optimize\n",
    "from tqdm import tqdm"
   ]
  },
  {
   "cell_type": "code",
   "execution_count": 4,
   "id": "7c9c6e29-31c0-4d50-9f55-950e0029b4f7",
   "metadata": {},
   "outputs": [],
   "source": [
    "with open(\"../../data/Majorna2021/CityModel.json\") as src:\n",
    "    cm = json.load(src)\n",
    "    buildings = cm['Buildings']"
   ]
  },
  {
   "cell_type": "code",
   "execution_count": 5,
   "id": "fb8a8aa1-ee71-4b44-a850-deb88f0cdb7d",
   "metadata": {},
   "outputs": [],
   "source": [
    "def get_roof_data(building):\n",
    "    #footprint = [ [f['x'], f['y']] for f in building['Footprint']]\n",
    "    #footprint = Polygon(footprint)\n",
    "    points = [[p['x'], p['y'],p['z']] for p in building['RoofPoints']]\n",
    "    points = np.array(points)\n",
    "    return points"
   ]
  },
  {
   "cell_type": "code",
   "execution_count": 6,
   "id": "03a8d61d-7c12-4b11-b656-3d5ce10cff27",
   "metadata": {},
   "outputs": [],
   "source": [
    "pc = get_roof_data(buildings[120])"
   ]
  },
  {
   "cell_type": "code",
   "execution_count": 132,
   "id": "a68790f5-1dd2-4dcb-a440-f2362e99e2ed",
   "metadata": {},
   "outputs": [],
   "source": [
    "def segment_roof(\n",
    "    point_cloud, max_radius=0.2, normals_angle_threshold=2, min_points=20\n",
    "):\n",
    "    regions = region_growing_segmentation_3d(\n",
    "        point_cloud=point_cloud,\n",
    "        max_radius=max_radius,\n",
    "        normals_angle_threshold=normals_angle_threshold,\n",
    "    )\n",
    "    xy_normal_vector = [0, 0, 1]\n",
    "    filtered_regions = [r[2] for r in regions if len(r[2]) > min_points]\n",
    "    return filtered_regions\n",
    "\n",
    "def segment_score(roof_segments,point_cloud):\n",
    "    segmented_points = 0\n",
    "    for segment in roof_segments:\n",
    "        segmented_points += len(segment)\n",
    "    segment_ratio = segmented_points / len(point_cloud)\n",
    "    return len(roof_segments) ** 2 * segment_ratio\n",
    "\n",
    "def optimize_roof_segmentation(point_cloud, max_radius=2, min_points=16, max_iter=200):\n",
    "    \n",
    "\n",
    "    def segment_value(angle_threshold):\n",
    "        roof_segments = segment_roof(\n",
    "            point_cloud, max_radius, angle_threshold, min_points\n",
    "        )\n",
    "        return -segment_score(roof_segments, point_cloud)\n",
    "\n",
    "    opt_result = scipy.optimize.minimize_scalar(\n",
    "        segment_value,\n",
    "        bounds=(0.5, 10.0),\n",
    "        # bracket=(0, 5, 10),\n",
    "        method=\"brent\",\n",
    "        tol=1e-2,\n",
    "        options={\"maxiter\": max_iter},\n",
    "    )\n",
    "    return opt_result"
   ]
  },
  {
   "cell_type": "code",
   "execution_count": 133,
   "id": "990796cf-05ea-464f-9935-12b269a50918",
   "metadata": {},
   "outputs": [
    {
     "data": {
      "text/plain": [
       "     fun: -3.9689521345407504\n",
       "    nfev: 19\n",
       "     nit: 8\n",
       " success: True\n",
       "       x: 17.127406729592035"
      ]
     },
     "execution_count": 133,
     "metadata": {},
     "output_type": "execute_result"
    }
   ],
   "source": [
    "optimize_roof_segmentation(pc)"
   ]
  },
  {
   "cell_type": "code",
   "execution_count": 155,
   "id": "b80a5744-856d-4072-ae09-ea62b816a89c",
   "metadata": {},
   "outputs": [],
   "source": [
    "steps = np.arange(0.5,10,0.25)"
   ]
  },
  {
   "cell_type": "code",
   "execution_count": 144,
   "id": "03733753-302e-4079-9fd0-1f780546ad0f",
   "metadata": {},
   "outputs": [
    {
     "name": "stdout",
     "output_type": "stream",
     "text": [
      "33\n"
     ]
    }
   ],
   "source": [
    "pc = get_roof_data(buildings[151])\n",
    "print(len(pc))"
   ]
  },
  {
   "cell_type": "code",
   "execution_count": 161,
   "id": "df3017a5-93a6-4414-a41f-67b18926bf2f",
   "metadata": {
    "tags": []
   },
   "outputs": [
    {
     "name": "stdout",
     "output_type": "stream",
     "text": [
      "3.75:0.6060606060606061\n",
      "3.75\n"
     ]
    },
    {
     "data": {
      "image/png": "[encoded data removed]",
      "text/plain": [
       "<Figure size 432x288 with 1 Axes>"
      ]
     },
     "metadata": {
      "needs_background": "light"
     },
     "output_type": "display_data"
    }
   ],
   "source": [
    "xs = []\n",
    "for s in steps:\n",
    "    roof_segments  = segment_roof(pc,2,normals_angle_threshold=s,min_points=16)\n",
    "    xs.append(segment_score(roof_segments, pc))\n",
    "xs = np.array(xs)\n",
    "midx = np.argmax(xs)\n",
    "print(f\"{steps[midx]}:{xs[midx]}\")\n",
    "\n",
    "plot(steps,xs)\n",
    "np.argsort(xs)\n",
    "segmax = np.max(xs)\n",
    "minmax = segmax *0.9\n",
    "possible_angles = xs>minmax\n",
    "print(np.min(steps[possible_angles]))"
   ]
  },
  {
   "cell_type": "code",
   "execution_count": null,
   "id": "97b2817e-a5b4-43f1-b5f0-4fc682e5281c",
   "metadata": {},
   "outputs": [],
   "source": []
  },
  {
   "cell_type": "code",
   "execution_count": 146,
   "id": "6b948974-a88d-4c40-9f61-32f3798d749e",
   "metadata": {
    "tags": []
   },
   "outputs": [
    {
     "name": "stdout",
     "output_type": "stream",
     "text": [
      "X: 9.328428763646503 fun: 0.6060606060606061\n",
      "0.6060606060606061\n"
     ]
    }
   ],
   "source": [
    "r = optimize_roof_segmentation(pc, max_iter=200)\n",
    "print(f\"X: {r.x} fun: {-r.fun}\")\n",
    "roof_segments = segment_roof(pc,2,r.x,min_points = 16)\n",
    "print(segment_score(roof_segments,pc))"
   ]
  },
  {
   "cell_type": "code",
   "execution_count": 172,
   "id": "0c95b118-b091-4416-b316-663a1fe3d69f",
   "metadata": {},
   "outputs": [
    {
     "name": "stderr",
     "output_type": "stream",
     "text": [
      "100%|██████████| 3096/3096 [3:35:40<00:00,  4.18s/it]    \n"
     ]
    }
   ],
   "source": [
    "steps = arange(0.5,10,0.2)\n",
    "min_good_angle = []\n",
    "for b in tqdm(buildings):\n",
    "    xs = []\n",
    "    pc = get_roof_data(b)\n",
    "    if len(pc)<32:\n",
    "        continue\n",
    "    for s in steps:\n",
    "        roof_segments  = segment_roof(pc,2,normals_angle_threshold=s,min_points=16)\n",
    "        xs.append(segment_score(roof_segments, pc))\n",
    "    np.argsort(xs)\n",
    "    segmax = np.max(xs)\n",
    "    minmax = segmax *0.9\n",
    "    possible_angles = xs>minmax\n",
    "    try:\n",
    "        min_good_angle.append(np.min(steps[possible_angles]))\n",
    "    except ValueError:\n",
    "        pass"
   ]
  },
  {
   "cell_type": "code",
   "execution_count": 192,
   "id": "c0a50af1-7058-461e-8973-cadd6217099d",
   "metadata": {},
   "outputs": [
    {
     "data": {
      "text/plain": [
       "(array([191.,  85.,  98.,  68.,  52.,  92.,  72.,  72.,  92.,  86.,  88.,\n",
       "        135.,  92.,  85., 132.,  91.,  65.,  86.,  53.,  65.]),\n",
       " array([0.5 , 0.97, 1.44, 1.91, 2.38, 2.85, 3.32, 3.79, 4.26, 4.73, 5.2 ,\n",
       "        5.67, 6.14, 6.61, 7.08, 7.55, 8.02, 8.49, 8.96, 9.43, 9.9 ]),\n",
       " <BarContainer object of 20 artists>)"
      ]
     },
     "execution_count": 192,
     "metadata": {},
     "output_type": "execute_result"
    },
    {
     "data": {
      "image/png": "[encoded data removed]",
      "text/plain": [
       "<Figure size 432x288 with 1 Axes>"
      ]
     },
     "metadata": {
      "needs_background": "light"
     },
     "output_type": "display_data"
    }
   ],
   "source": [
    "hist(min_good_angle, bins=20)"
   ]
  },
  {
   "cell_type": "code",
   "execution_count": 176,
   "id": "0ca2d0f6-8801-4f0b-825d-1efe766c3f82",
   "metadata": {},
   "outputs": [],
   "source": [
    "min_good_angle2 = copy(min_good_angle)"
   ]
  },
  {
   "cell_type": "code",
   "execution_count": 178,
   "id": "a6937634-f5bf-4854-a7a5-85527a469c1c",
   "metadata": {},
   "outputs": [],
   "source": [
    "min_good_angle_sort = np.sort(min_good_angle2)"
   ]
  },
  {
   "cell_type": "code",
   "execution_count": 188,
   "id": "20e3a346-5a1d-4758-a504-24fdfad826c9",
   "metadata": {},
   "outputs": [],
   "source": [
    "H,X1 = np.histogram( min_good_angle, bins = 20, density=True)\n",
    "dx = X1[1] - X1[0]\n",
    "F1 = np.cumsum(H)*dx"
   ]
  },
  {
   "cell_type": "code",
   "execution_count": 189,
   "id": "9317a45c-bd6b-4043-81a4-a2d5dda5ca74",
   "metadata": {},
   "outputs": [
    {
     "data": {
      "text/plain": [
       "[<matplotlib.lines.Line2D at 0x7f6bdd1ba040>]"
      ]
     },
     "execution_count": 189,
     "metadata": {},
     "output_type": "execute_result"
    },
    {
     "data": {
      "image/png": "[encoded data removed]",
      "text/plain": [
       "<Figure size 432x288 with 1 Axes>"
      ]
     },
     "metadata": {
      "needs_background": "light"
     },
     "output_type": "display_data"
    }
   ],
   "source": [
    "plot(X1[1:],F1)"
   ]
  },
  {
   "cell_type": "code",
   "execution_count": 190,
   "id": "eac94a8d-0a30-4d8a-aa7e-d4fa19c7bfbb",
   "metadata": {},
   "outputs": [
    {
     "data": {
      "text/plain": [
       "array([0.22576832, 0.10047281, 0.11583924, 0.08037825, 0.06146572,\n",
       "       0.10874704, 0.08510638, 0.08510638, 0.10874704, 0.10165485,\n",
       "       0.10401891, 0.15957447, 0.10874704, 0.10047281, 0.15602837,\n",
       "       0.10756501, 0.07683215, 0.10165485, 0.06264775, 0.07683215])"
      ]
     },
     "execution_count": 190,
     "metadata": {},
     "output_type": "execute_result"
    }
   ],
   "source": [
    "H"
   ]
  },
  {
   "cell_type": "code",
   "execution_count": 191,
   "id": "b81ce82b-db17-40b4-8055-0b47cf1cf6f7",
   "metadata": {},
   "outputs": [
    {
     "data": {
      "text/plain": [
       "array([0.5 , 0.97, 1.44, 1.91, 2.38, 2.85, 3.32, 3.79, 4.26, 4.73, 5.2 ,\n",
       "       5.67, 6.14, 6.61, 7.08, 7.55, 8.02, 8.49, 8.96, 9.43, 9.9 ])"
      ]
     },
     "execution_count": 191,
     "metadata": {},
     "output_type": "execute_result"
    }
   ],
   "source": [
    "X1"
   ]
  },
  {
   "cell_type": "code",
   "execution_count": null,
   "id": "2f44a197-c7ff-4aec-8802-4858382c4fb7",
   "metadata": {},
   "outputs": [],
   "source": []
  }
 ],
 "metadata": {
  "kernelspec": {
   "display_name": "Python 3 (ipykernel)",
   "language": "python",
   "name": "python3"
  },
  "language_info": {
   "codemirror_mode": {
    "name": "ipython",
    "version": 3
   },
   "file_extension": ".py",
   "mimetype": "text/x-python",
   "name": "python",
   "nbconvert_exporter": "python",
   "pygments_lexer": "ipython3",
   "version": "3.9.9"
  }
 },
 "nbformat": 4,
 "nbformat_minor": 5
}
