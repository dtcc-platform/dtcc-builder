{
 "cells": [
  {
   "cell_type": "code",
   "execution_count": 1,
   "metadata": {},
   "outputs": [],
   "source": [
    "%reload_ext autoreload\n",
    "%autoreload 2\n",
    "import shapely\n",
    "from shapely.geometry import Point, Polygon, MultiPoint, MultiPolygon\n",
    "import dtcc_wrangler\n",
    "import dtcc_wrangler.geometry.polygons\n",
    "from dtcc_wrangler.geometry.polygons import merge_list_of_polygons, find_merge_candidates, polygon_merger\n",
    "from dtcc_wrangler.geometry.polygons import clean_merge_candidates\n",
    "\n",
    "from scipy.sparse import lil_matrix\n",
    "from scipy.sparse.csgraph import connected_components\n",
    "import numpy as np\n",
    "from collections import defaultdict\n",
    "from itertools import combinations, groupby"
   ]
  },
  {
   "cell_type": "code",
   "execution_count": 2,
   "metadata": {},
   "outputs": [],
   "source": [
    "wkt = \"MultiPolygon (((102209.0030993853288237 6213469.8669445738196373, 102206.84589938499266282 6213460.99334457237273455, 102195.05479938496137038 6213463.85754457302391529, 102196.49189938454946969 6213469.77324457280337811, 102194.80829938438546378 6213470.18284457456320524, 102196.7175993848068174 6213478.03654457163065672, 102209.0689993851701729 6213475.0345445740967989, 102207.87969938530295622 6213470.13964457344263792, 102209.0030993853288237 6213469.8669445738196373)),((102201.94259938455070369 6213478.91834457404911518, 102201.44849938478728291 6213476.88684457261115313, 102196.71659938487573527 6213478.03654457349330187, 102197.22159938467666507 6213480.11734457314014435, 102200.03329938519163989 6213479.44814457185566425, 102200.0176993847853737 6213479.38574457261711359, 102201.94259938455070369 6213478.91834457404911518)),((102199.78479938438977115 6213449.67224457208067179, 102198.78389938487089239 6213445.55084457341581583, 102197.41599938506260514 6213445.88424457237124443, 102196.80259938503149897 6213443.3608445730060339, 102193.33889938466018066 6213444.20204457081854343, 102194.68149938491114881 6213449.72644457314163446, 102195.63989938466693275 6213449.49324457254260778, 102195.9116993848583661 6213450.61254457384347916, 102199.78479938438977115 6213449.67224457208067179)),((102203.45909938460681587 6213459.86234457325190306, 102202.82789938477799296 6213457.23254457302391529, 102199.55949938524281606 6213458.01784457173198462, 102200.17449938459321856 6213460.65134457219392061, 102203.45909938460681587 6213459.86234457325190306)),((102203.21509938454255462 6213450.78424457367509604, 102204.33849938446655869 6213450.51154457125812769, 102202.18219938452239148 6213441.63894457370042801, 102196.70799938442360144 6213442.96964457165449858, 102197.41599938506260514 6213445.88424457237124443, 102198.78389938487089239 6213445.55084457341581583, 102199.78479938438977115 6213449.67224457208067179, 102195.9116993848583661 6213450.61254457384347916, 102195.63989938466693275 6213449.49324457254260778, 102190.14459938489017077 6213450.82844457402825356, 102192.05389938429289032 6213458.68214457202702761, 102204.40529938480176497 6213455.68014457076787949, 102203.21509938454255462 6213450.78424457367509604)),((102196.49189938453491777 6213469.77424457296729088, 102195.08699938499194104 6213463.98824457079172134, 102191.26019938517129049 6213464.91654457338154316, 102190.7421993849275168 6213465.87174457125365734, 102191.92249938490567729 6213470.39424457401037216, 102192.85429938456218224 6213471.02274457365274429, 102194.89289938515867107 6213470.52774457260966301, 102194.8092993845930323 6213470.18284457363188267, 102196.49189938453491777 6213469.77424457296729088)))\"\n",
    "mp = shapely.from_wkt(wkt)\n",
    "mp\n",
    "poly_list = [p for p in mp.geoms]"
   ]
  },
  {
   "cell_type": "code",
   "execution_count": 3,
   "metadata": {},
   "outputs": [
    {
     "data": {
      "text/plain": [
       "[<POLYGON ((102209.003 6213469.867, 102206.846 6213460.993, 102195.055 621346...>,\n",
       " <POLYGON ((102201.943 6213478.918, 102201.448 6213476.887, 102196.717 621347...>,\n",
       " <POLYGON ((102199.785 6213449.672, 102198.784 6213445.551, 102197.416 621344...>,\n",
       " <POLYGON ((102203.459 6213459.862, 102202.828 6213457.233, 102199.559 621345...>,\n",
       " <POLYGON ((102203.215 6213450.784, 102204.338 6213450.512, 102202.182 621344...>,\n",
       " <POLYGON ((102196.492 6213469.774, 102195.087 6213463.988, 102191.26 6213464...>]"
      ]
     },
     "execution_count": 3,
     "metadata": {},
     "output_type": "execute_result"
    }
   ],
   "source": [
    "min_area = 15\n",
    "poly_list"
   ]
  },
  {
   "cell_type": "code",
   "execution_count": 110,
   "metadata": {},
   "outputs": [
    {
     "name": "stderr",
     "output_type": "stream",
     "text": [
      "2023-11-23 15:11:50,114 [dtcc-wrangler] [INFO] Failed to merge polygons. Falling back to merging convex hull\n"
     ]
    },
    {
     "data": {
      "image/svg+xml": [
       "<svg xmlns=\"http://www.w3.org/2000/svg\" xmlns:xlink=\"http://www.w3.org/1999/xlink\" width=\"100.0\" height=\"100.0\" viewBox=\"102188.60546338491 6213440.099808574 22.00267200023518 41.556671999394894\" preserveAspectRatio=\"xMinYMin meet\"><g transform=\"matrix(1,0,0,-1,0,12426921.756289147)\"><path fill-rule=\"evenodd\" fill=\"#66cc99\" stroke=\"#555555\" stroke-width=\"0.8311334399878979\" opacity=\"0.6\" d=\"M 102202.18219938452,6213441.638944574 L 102196.70799938442,6213442.969644572 L 102193.33889938466,6213444.202044571 L 102190.14459938489,6213450.828444574 L 102190.74219938493,6213465.871744571 L 102191.9224993849,6213470.394244574 L 102197.22159938468,6213480.117344573 L 102200.03329938519,6213479.448144572 L 102201.94259938455,6213478.918344574 L 102209.06899938517,6213475.034544574 L 102209.00309938533,6213469.866944574 L 102204.33849938447,6213450.511544571 L 102202.18219938452,6213441.638944574 z\" /></g></svg>"
      ],
      "text/plain": [
       "<POLYGON ((102202.182 6213441.639, 102196.708 6213442.97, 102193.339 6213444...>"
      ]
     },
     "execution_count": 110,
     "metadata": {},
     "output_type": "execute_result"
    }
   ],
   "source": [
    "polygon_merger(poly_list, 2, min_area)[0][0]"
   ]
  },
  {
   "cell_type": "code",
   "execution_count": 4,
   "metadata": {},
   "outputs": [
    {
     "name": "stdout",
     "output_type": "stream",
     "text": [
      "[[0, 1, 2, 3, 4, 5]]\n"
     ]
    }
   ],
   "source": [
    "merge_candidates = find_merge_candidates(poly_list, 2)\n",
    "print(merge_candidates)"
   ]
  },
  {
   "cell_type": "code",
   "execution_count": 10,
   "metadata": {},
   "outputs": [],
   "source": [
    "cmc = clean_merge_candidates(poly_list, merge_candidates, 2,  min_area)"
   ]
  },
  {
   "cell_type": "code",
   "execution_count": 12,
   "metadata": {},
   "outputs": [],
   "source": [
    "poly_candidates = [poly_list[i] for i in cmc[0]]"
   ]
  },
  {
   "cell_type": "code",
   "execution_count": 16,
   "metadata": {},
   "outputs": [],
   "source": [
    "smc = find_merge_candidates(poly_candidates, 2)"
   ]
  },
  {
   "cell_type": "code",
   "execution_count": 25,
   "metadata": {},
   "outputs": [
    {
     "data": {
      "text/plain": [
       "[[0, 1, 2, 4, 5],\n",
       " [0, 1, 4],\n",
       " [2, 3],\n",
       " [0, 1, 4],\n",
       " [2, 3],\n",
       " [0, 1, 4],\n",
       " [2, 3],\n",
       " [0, 1, 4],\n",
       " [2, 3]]"
      ]
     },
     "execution_count": 25,
     "metadata": {},
     "output_type": "execute_result"
    }
   ],
   "source": [
    "merge_candidates"
   ]
  },
  {
   "cell_type": "code",
   "execution_count": 26,
   "metadata": {},
   "outputs": [
    {
     "data": {
      "text/plain": [
       "[[0, 1, 2, 4, 5],\n",
       " [0, 1, 4],\n",
       " [2, 3],\n",
       " [0, 1, 4],\n",
       " [2, 3],\n",
       " [0, 1, 4],\n",
       " [2, 3],\n",
       " [0, 1, 4],\n",
       " [2, 3]]"
      ]
     },
     "execution_count": 26,
     "metadata": {},
     "output_type": "execute_result"
    }
   ],
   "source": [
    "[mc for mc in merge_candidates if len(mc) > 0]"
   ]
  },
  {
   "cell_type": "code",
   "execution_count": null,
   "metadata": {},
   "outputs": [],
   "source": []
  }
 ],
 "metadata": {
  "kernelspec": {
   "display_name": "dtcc-platform",
   "language": "python",
   "name": "python3"
  },
  "language_info": {
   "codemirror_mode": {
    "name": "ipython",
    "version": 3
   },
   "file_extension": ".py",
   "mimetype": "text/x-python",
   "name": "python",
   "nbconvert_exporter": "python",
   "pygments_lexer": "ipython3",
   "version": "3.10.13"
  }
 },
 "nbformat": 4,
 "nbformat_minor": 2
}
